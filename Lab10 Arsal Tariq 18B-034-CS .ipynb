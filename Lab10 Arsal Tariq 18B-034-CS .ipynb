{
 "cells": [
  {
   "cell_type": "code",
   "execution_count": 6,
   "metadata": {},
   "outputs": [
    {
     "name": "stdout",
     "output_type": "stream",
     "text": [
      "Student['Name']:  Jibran\n",
      "Student['Age']:  12\n",
      "Student['DOB']:  16 April 2006\n",
      "Student['Class']: Sixth\n"
     ]
    }
   ],
   "source": [
    "#Lab 10\n",
    "#Program 01\n",
    "#Program to store the information of a student\n",
    "\n",
    "Student = {'Name' : 'Jibran', 'Age': 12, 'Class':'Sixth', 'DOB':'16 April 2006'}\n",
    "           \n",
    "print(\"Student['Name']: \", Student['Name']) ,\n",
    "print(\"Student['Age']: \", Student['Age']) ,\n",
    "print(\"Student['DOB']: \", Student['DOB']) ,\n",
    "print(\"Student['Class']:\", Student['Class']) "
   ]
  },
  {
   "cell_type": "code",
   "execution_count": 7,
   "metadata": {},
   "outputs": [
    {
     "name": "stdout",
     "output_type": "stream",
     "text": [
      "Jibran\n",
      "12\n",
      "Sixth\n",
      "16 April 2006\n"
     ]
    }
   ],
   "source": [
    "#Program 02\n",
    "#Using for loops inside a dictionary\n",
    "\n",
    "Student = {\n",
    "    \"Name\"  : \"Jibran\" ,\n",
    "    \"Age\"   : 12 ,\n",
    "    \"Class\" : \"Sixth\" ,\n",
    "    \"DOB\"   : \"16 April 2006\"\n",
    "}\n",
    "\n",
    "for x in Student:\n",
    "    print(Student[x])"
   ]
  },
  {
   "cell_type": "code",
   "execution_count": 8,
   "metadata": {},
   "outputs": [
    {
     "name": "stdout",
     "output_type": "stream",
     "text": [
      "Jibran\n",
      "12\n",
      "Sixth\n",
      "16 April 2006\n"
     ]
    }
   ],
   "source": [
    "#Program 03\n",
    "#Using for loops to access the values\n",
    "\n",
    "Student = {\n",
    "    \"Name\"  : \"Jibran\" ,\n",
    "    \"Age\"   :  12 ,\n",
    "    \"Class\" : \"Sixth\" ,\n",
    "    \"DOB\"   : \"16 April 2006\"\n",
    "}\n",
    "\n",
    "for x in Student.values():\n",
    "    print(x)"
   ]
  },
  {
   "cell_type": "code",
   "execution_count": 9,
   "metadata": {},
   "outputs": [
    {
     "name": "stdout",
     "output_type": "stream",
     "text": [
      "Name Jibran\n",
      "Age 12\n",
      "Class Sixth\n",
      "DOB 16 April 2006\n"
     ]
    }
   ],
   "source": [
    "#Program 04:\n",
    "#Using 2 variables to get keys and values\n",
    "\n",
    "Student = {\n",
    "    \"Name\"  : \"Jibran\" ,\n",
    "    \"Age\"   : 12 ,\n",
    "    \"Class\" : \"Sixth\" ,\n",
    "    \"DOB\"   : \"16 April 2006\"\n",
    "}\n",
    "\n",
    "for x, y in Student.items():\n",
    "    print(x,y)\n",
    "    "
   ]
  },
  {
   "cell_type": "code",
   "execution_count": 11,
   "metadata": {},
   "outputs": [
    {
     "name": "stdout",
     "output_type": "stream",
     "text": [
      "Yes, 'DOB' is one of the keys in the Student dictionary\n"
     ]
    }
   ],
   "source": [
    "#Program 05:\n",
    "#Using if condition inside a dictionary\n",
    "\n",
    "Student = {\n",
    "    \"Name\"  : \"Jibran\" ,\n",
    "    \"Age\"   : 12 ,\n",
    "    \"Class\" : \"Sixth\" , \n",
    "    \"DOB\"   : \"16 April 2006\"\n",
    "}\n",
    "\n",
    "if \"DOB\" in Student:\n",
    "    print(\"Yes, 'DOB' is one of the keys in the Student dictionary\")\n",
    "    "
   ]
  },
  {
   "cell_type": "code",
   "execution_count": 13,
   "metadata": {},
   "outputs": [
    {
     "name": "stdout",
     "output_type": "stream",
     "text": [
      "Student['Age'] :  12.5\n",
      "Student['School'] :  The Seeds School\n",
      "Student['Friend1'] :  Mohib\n",
      "Student['Friend2'] :  Akbar\n",
      "Student['Friend3'] :  Jazil\n"
     ]
    }
   ],
   "source": [
    "#Program 06:\n",
    "\n",
    "Student = {\n",
    "    \"Name\"  : \"Jibran\" ,\n",
    "    \"Age\"   : 12 ,\n",
    "    \"Class\" : \"Sixth\" ,\n",
    "    \"DOB\"   : \"16 April 2006\"\n",
    "}\n",
    "\n",
    "Student['Age'] = 12.5\n",
    "Student['School'] = \"The Seeds School\"\n",
    "\n",
    "print(\"Student['Age'] : \" , Student['Age']) \n",
    "print(\"Student['School'] : \" , Student['School'])\n",
    "\n",
    "Student['Friend1'] = 'Mohib' \n",
    "Student['Friend2'] = 'Akbar' \n",
    "Student['Friend3'] = 'Jazil'\n",
    "\n",
    "print(\"Student['Friend1'] : \" , Student['Friend1'])\n",
    "print(\"Student['Friend2'] : \" , Student['Friend2'])\n",
    "print(\"Student['Friend3'] : \" , Student['Friend3'])\n",
    "\n",
    "\n",
    "\n"
   ]
  },
  {
   "cell_type": "code",
   "execution_count": 15,
   "metadata": {},
   "outputs": [
    {
     "name": "stdout",
     "output_type": "stream",
     "text": [
      "Name Jibran\n",
      "Age 12\n",
      "Class Sixth\n",
      "DOB 16 April 2006\n",
      "School The Seeds School\n",
      "Friend1 Mohib\n",
      "Friend2 Akbar\n",
      "Friend3 Jazil\n",
      "{'Name': 'Jibran', 'Age': 12, 'Class': 'Sixth', 'DOB': '16 April 2006', 'School': 'The Seeds School', 'Friend1': 'Mohib', 'Friend2': 'Akbar', 'Friend3': 'Jazil'}\n"
     ]
    },
    {
     "data": {
      "text/plain": [
       "'Mohib'"
      ]
     },
     "execution_count": 15,
     "metadata": {},
     "output_type": "execute_result"
    }
   ],
   "source": [
    "#Program 07:\n",
    "#Removing items from the dictionary\n",
    "\n",
    "Student = {\n",
    "    \"Name\"  : \"Jibran\" ,\n",
    "    \"Age\"   : 12 ,\n",
    "    \"Class\" : \"Sixth\" ,\n",
    "    \"DOB\"   : \"16 April 2006\" ,\n",
    "    \"School\": \"The Seeds School\" ,\n",
    "    \"Friend1\" : \"Mohib\" ,\n",
    "    \"Friend2\" : \"Akbar\" ,\n",
    "    \"Friend3\" : \"Jazil\" ,\n",
    "    \n",
    "}\n",
    "\n",
    "for x, y in Student.items():\n",
    "    print(x,y)\n",
    "\n",
    "print(Student)\n",
    "\n",
    "Student.pop(\"Friend1\")\n"
   ]
  },
  {
   "cell_type": "code",
   "execution_count": 24,
   "metadata": {},
   "outputs": [
    {
     "name": "stdout",
     "output_type": "stream",
     "text": [
      "Student['Age']:  12\n",
      "Student['School']:  The Seeds School\n",
      "Student['Friend1'] Mohib\n",
      "Student['Friend2'] Akbar\n",
      "Student['Friend3'] Jazil\n",
      "{'Name': 'Jibran', 'Age': 12, 'Class': 'Sixth', 'DOB': '16 April 2006', 'School': 'The Seeds School', 'Friend2': 'Akbar', 'Friend3': 'Jazil'}\n"
     ]
    }
   ],
   "source": [
    "#Program 08:\n",
    "#Removing items from dict:\n",
    "\n",
    "Student = {\n",
    "    \"Name\"  : \"Jibran\" ,\n",
    "    \"Age\"   : 12 ,\n",
    "    \"Class\" : \"Sixth\" ,\n",
    "    \"DOB\"   : \"16 April 2006\" ,\n",
    "    \"School\": \"The Seeds School\" ,\n",
    "}\n",
    "\n",
    "print(\"Student['Age']: \", Student['Age']) \n",
    "print(\"Student['School']: \", Student['School']) \n",
    "\n",
    "Student['Friend1'] = 'Mohib' \n",
    "Student['Friend2'] = 'Akbar'\n",
    "Student['Friend3'] = 'Jazil' \n",
    "print(\"Student['Friend1']\" , Student['Friend1'])\n",
    "print(\"Student['Friend2']\" , Student['Friend2']) \n",
    "print(\"Student['Friend3']\" , Student['Friend3'])  \n",
    "\n",
    "del Student['Friend1']\n",
    "print(Student)"
   ]
  },
  {
   "cell_type": "code",
   "execution_count": 26,
   "metadata": {},
   "outputs": [
    {
     "name": "stdout",
     "output_type": "stream",
     "text": [
      "{'Father': 'Tariq', 'Mother': 'Afsheen', 'Sister': 'Iqra', 'Brother': 'Shazil'}\n",
      "{'Father': 'Tariq', 'Mother': 'Afsheen', 'Sister': 'Iqra', 'Brother': 'Shazil', 'PaternalGrandFather': 'Khalid Qureshi', 'MaternalGrandFather': 'Maqbool Hussain Mirza', 'Uncle': 'Abid Qureshi'}\n"
     ]
    }
   ],
   "source": [
    "#Programming Exercises\n",
    "#Program 01\n",
    "\n",
    "Family = {\n",
    "    \"Father\" : \"Tariq\" ,\n",
    "    \"Mother\" : \"Afsheen\" ,\n",
    "    \"Sister\" : \"Iqra\" ,\n",
    "    \"Brother\" : \"Shazil\" ,\n",
    "}\n",
    "\n",
    "print(Family)\n",
    "\n",
    "Family[\"PaternalGrandFather\"] = \"Khalid Qureshi\" \n",
    "Family[\"MaternalGrandFather\"] = \"Maqbool Hussain Mirza\"\n",
    "Family[\"Uncle\"] = \"Abid Qureshi\"\n",
    "print(Family)"
   ]
  },
  {
   "cell_type": "code",
   "execution_count": 29,
   "metadata": {
    "scrolled": true
   },
   "outputs": [
    {
     "name": "stdout",
     "output_type": "stream",
     "text": [
      "Enter Contact Name and Number: Friend1,0213465789\n",
      "Do you want to continue? Y or N Y\n",
      "Enter Contact Name and Number: Friend2,021345896\n",
      "Do you want to continue? Y or N Y\n",
      "Enter Contact Name and Number: Friend3,021134689\n",
      "Do you want to continue? Y or N N\n",
      "{'Friend1': '0213465789', 'Friend2': '021345896', 'Friend3': '021134689'}\n"
     ]
    },
    {
     "ename": "AttributeError",
     "evalue": "'function' object has no attribute 'pop'",
     "output_type": "error",
     "traceback": [
      "\u001b[1;31m---------------------------------------------------------------------------\u001b[0m",
      "\u001b[1;31mAttributeError\u001b[0m                            Traceback (most recent call last)",
      "\u001b[1;32m<ipython-input-29-daa98ee61549>\u001b[0m in \u001b[0;36m<module>\u001b[1;34m()\u001b[0m\n\u001b[0;32m     17\u001b[0m     \u001b[0mcreateDic\u001b[0m\u001b[1;33m.\u001b[0m\u001b[0mpop\u001b[0m\u001b[1;33m(\u001b[0m\u001b[0minput\u001b[0m\u001b[1;33m(\u001b[0m\u001b[1;34m\"Enter Contact name to delete\"\u001b[0m\u001b[1;33m)\u001b[0m\u001b[1;33m)\u001b[0m\u001b[1;33m\u001b[0m\u001b[0m\n\u001b[0;32m     18\u001b[0m \u001b[1;33m\u001b[0m\u001b[0m\n\u001b[1;32m---> 19\u001b[1;33m \u001b[0mdelDic\u001b[0m\u001b[1;33m(\u001b[0m\u001b[0mx\u001b[0m\u001b[1;33m)\u001b[0m\u001b[1;33m\u001b[0m\u001b[0m\n\u001b[0m\u001b[0;32m     20\u001b[0m \u001b[0mprint\u001b[0m\u001b[1;33m(\u001b[0m\u001b[0mx\u001b[0m\u001b[1;33m)\u001b[0m\u001b[1;33m\u001b[0m\u001b[0m\n\u001b[0;32m     21\u001b[0m \u001b[1;33m\u001b[0m\u001b[0m\n",
      "\u001b[1;32m<ipython-input-29-daa98ee61549>\u001b[0m in \u001b[0;36mdelDic\u001b[1;34m(CreateDic)\u001b[0m\n\u001b[0;32m     15\u001b[0m \u001b[1;33m\u001b[0m\u001b[0m\n\u001b[0;32m     16\u001b[0m \u001b[1;32mdef\u001b[0m \u001b[0mdelDic\u001b[0m\u001b[1;33m(\u001b[0m\u001b[0mCreateDic\u001b[0m\u001b[1;33m)\u001b[0m\u001b[1;33m:\u001b[0m\u001b[1;33m\u001b[0m\u001b[0m\n\u001b[1;32m---> 17\u001b[1;33m     \u001b[0mcreateDic\u001b[0m\u001b[1;33m.\u001b[0m\u001b[0mpop\u001b[0m\u001b[1;33m(\u001b[0m\u001b[0minput\u001b[0m\u001b[1;33m(\u001b[0m\u001b[1;34m\"Enter Contact name to delete\"\u001b[0m\u001b[1;33m)\u001b[0m\u001b[1;33m)\u001b[0m\u001b[1;33m\u001b[0m\u001b[0m\n\u001b[0m\u001b[0;32m     18\u001b[0m \u001b[1;33m\u001b[0m\u001b[0m\n\u001b[0;32m     19\u001b[0m \u001b[0mdelDic\u001b[0m\u001b[1;33m(\u001b[0m\u001b[0mx\u001b[0m\u001b[1;33m)\u001b[0m\u001b[1;33m\u001b[0m\u001b[0m\n",
      "\u001b[1;31mAttributeError\u001b[0m: 'function' object has no attribute 'pop'"
     ]
    }
   ],
   "source": [
    "#Program 02\n",
    "#Directories \n",
    "\n",
    "def createDic():\n",
    "    dict = {}\n",
    "    while True:\n",
    "        userInput = input(\"Enter Contact Name and Number: \")\n",
    "        key,value = userInput.split(\",\")\n",
    "        dict[key] = value\n",
    "        cont = input(\"Do you want to continue? Y or N \")\n",
    "        if (cont == \"N\"):\n",
    "            return dict\n",
    "        \n",
    "x = createDic()\n",
    "print(x)\n",
    "\n",
    "def delDic(CreateDic):\n",
    "    createDic.pop(input(\"Enter Contact name to delete\"))\n",
    "    \n",
    "delDic(x)\n",
    "print(x)\n",
    "\n",
    "print(\"Dic length is\" , len(x))"
   ]
  },
  {
   "cell_type": "code",
   "execution_count": null,
   "metadata": {},
   "outputs": [],
   "source": []
  }
 ],
 "metadata": {
  "kernelspec": {
   "display_name": "Python 3",
   "language": "python",
   "name": "python3"
  }
 },
 "nbformat": 4,
 "nbformat_minor": 2
}
